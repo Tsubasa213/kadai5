{
  "nbformat": 4,
  "nbformat_minor": 0,
  "metadata": {
    "colab": {
      "provenance": [],
      "include_colab_link": true
    },
    "kernelspec": {
      "name": "python3",
      "display_name": "Python 3"
    },
    "language_info": {
      "name": "python"
    }
  },
  "cells": [
    {
      "cell_type": "markdown",
      "metadata": {
        "id": "view-in-github",
        "colab_type": "text"
      },
      "source": [
        "<a href=\"https://colab.research.google.com/github/Tsubasa213/kadai5/blob/main/%E8%AA%B2%E9%A1%8C05_36_MT.ipynb\" target=\"_parent\"><img src=\"https://colab.research.google.com/assets/colab-badge.svg\" alt=\"Open In Colab\"/></a>"
      ]
    },
    {
      "cell_type": "markdown",
      "source": [
        "# **プログラムの名称**\n",
        "\n",
        "## **概要**\n",
        "\n",
        "このプログラムはモンスターストライクというスマホゲームの『超獣神祭』という、ガチャの再現です。\n",
        "\n",
        "\n",
        "## **操作方法**\n",
        "\n",
        "プログラムは初期化セルの一つ下にあるセルに入力してから実行してもらいます。\n",
        "\n",
        "まず、『目標』と書かれているmarkdownから3択で終了する地点を選んでもらいます。\n",
        "\n",
        "次に、『ほしいキャラ』と書かれているところから自分の欲しいキャラを選択してもらいます。ここで注意点ですが、『目標』で「星玉を引くまで」と選択した場合、『ほしいキャラ』は実行されるときに**関係ありません**。ご留意ください。\n",
        "\n",
        "選択が終了したら一番下のセルまで実行していただければ、ガチャを引くプログラムが作動します。\n",
        "\n",
        "※『目標』にある運極までとは同じキャラを20体当てることですので、実行終了まで10～15分程度かかりますのでご了承ください。\n",
        "\n",
        "## **制作者のコメント**\n",
        "ガチャを回すプログラムは授業で行ったものを参考にするとできましたが、細やかな設定が難しかったです。特に、星玉を引いた後に出なかった場合、同じ操作を入れることに手間取ってしまい、whileについて詳しく学ぶことができました。さらに、タイムモジュールを追加することで出力結果に時差を作り、見やすくなるように工夫しました。\n",
        "\n",
        "\n",
        "\n",
        "\n",
        "## **作成時間**\n",
        "\n",
        "作成時間：**約25時間**"
      ],
      "metadata": {
        "id": "BNb7I1FCMlFJ"
      }
    },
    {
      "cell_type": "code",
      "source": [
        "#@title 初期化 ( %reset -f )\n",
        "%reset -f"
      ],
      "metadata": {
        "id": "NGuL7doEPtzI"
      },
      "execution_count": null,
      "outputs": []
    },
    {
      "cell_type": "code",
      "source": [
        "#@title 初期選択\n",
        "\n",
        "import random as r\n",
        "import time\n",
        "\n",
        "#@markdown **■ 目標**\n",
        "level = '\\u661F\\u7389\\u3092\\u5F15\\u304F\\u307E\\u3067'  #@param ['星玉を引くまで', '目当てのキャラを当てるまで','目当てのキャラの運極まで']\n",
        "\n",
        "\n",
        "#@markdown **■ ほしいキャラ**\n",
        "goal = '\\u26056\\u30FB\\u30FB\\u30FB\\u30AD\\u30EA\\u30F3\\u30B8'  #@param ['★6・・・キリンジ', '★6・・・ヤクモ', '★6・・・アルスラーン', '★6・・・アビス', '★6・・・ネオ', '★6・・・カノン', '★6・・・バサラ', '★6・・・アルセーヌ', '★6・・・ハレルヤ', '★6・・・アミダ', '★5,★6の恒常キャラ', '★4']\n",
        "\n",
        "g = goal\n"
      ],
      "metadata": {
        "id": "11m_9JjCHMEi"
      },
      "execution_count": null,
      "outputs": []
    },
    {
      "cell_type": "code",
      "source": [
        "#@title 確率・排出キャラ・ランク\n",
        "\n",
        "gatya_hai1 = '0.4,0.4,0.4,0.4,0.4,0.4,0.4,0.4,0.4,0.4,8.0,88'  # 確率\n",
        "gatya_c_name = ['★6・・・キリンジ', '★6・・・ヤクモ', '★6・・・アルスラーン', '★6・・・アビス', '★6・・・ネオ', '★6・・・カノン', '★6・・・バサラ', '★6・・・アルセーヌ', '★6・・・ハレルヤ', '★6・・・アミダ', '★5,★6の恒常キャラ', '★4']  # 排出キャラ\n",
        "gatya_rank = [6, 6, 6, 6, 6, 6, 6, 6, 6, 6, 5, 4]  # ランク\n",
        "\n",
        "gatya_hai2 = '0.4,0.4,0.4,0.4,0.4,0.4,0.4,0.4,0.4,0.4,8,0' #星玉の確率"
      ],
      "metadata": {
        "id": "NYsCia1uMUMR"
      },
      "execution_count": null,
      "outputs": []
    },
    {
      "cell_type": "code",
      "source": [
        "#@title ガチャのプログラム\n",
        "\n",
        "def gatya1():  # ガチャを引く関数\n",
        "    item_p = list(map(float, gatya_hai1.split(',')))  # ガチャの確率\n",
        "    select = r.choices(gatya_c_name, weights=item_p, k=10)\n",
        "    for c in select:\n",
        "        print(c)  # 出たキャラ\n",
        "    return select\n",
        "\n",
        "\n",
        "def gatya2(): #星玉を引く関数\n",
        "    item_p = list(map(float, gatya_hai2.split(',')))  # ガチャの確率\n",
        "    select = r.choices(gatya_c_name, weights=item_p, k=1)\n",
        "    for c in select:\n",
        "        print(f'{c}が出ました！')  # 出たキャラ\n",
        "    return c\n"
      ],
      "metadata": {
        "id": "d1zzHw1stQxn"
      },
      "execution_count": null,
      "outputs": []
    },
    {
      "cell_type": "code",
      "source": [
        "#@title 星玉を引くまで\n",
        "\n",
        "def main1():\n",
        "    count01 = 0\n",
        "    count02 = 0\n",
        "\n",
        "    while count01 < 50:  # 50体の★4キャラクターが手に入るまで繰り返す\n",
        "        count02 += 1\n",
        "        print('')\n",
        "        print(f\"---{count02}0連目---\")\n",
        "        characters = gatya1()\n",
        "        time.sleep(1.5)  # 1秒待つ\n",
        "        count01 += characters.count('★4')\n",
        "\n",
        "\n",
        "    print('')\n",
        "    print('50体の★4キャラクターが手に入りました。星玉でガチャを引きます！！')\n",
        "    print('')\n",
        "    time.sleep(2) #2秒待つ\n",
        "    gatya2()"
      ],
      "metadata": {
        "id": "pebmWfAGtZLh"
      },
      "execution_count": null,
      "outputs": []
    },
    {
      "cell_type": "code",
      "source": [
        "#@title 目当てのキャラが当たるまで\n",
        "\n",
        "def main2():\n",
        "\n",
        "  count1 = 0 #ほしいキャラがを出た回数\n",
        "  count2 = 0 #10連を引いた回数\n",
        "  count3 = 0 #★4\n",
        "\n",
        "  while count1 < 1: #1体ゲットするまで\n",
        "    if count3 < 50 and count1 < 1:\n",
        "        count2 += 1\n",
        "        print('')\n",
        "        print(f'---{count2}0連目---')\n",
        "        characters = gatya1()\n",
        "        time.sleep(1.5)  # 1.5秒待つ\n",
        "        count1 += characters.count(g) #目当てのキャラを数える\n",
        "        count3 += characters.count('★4') #★4を数える\n",
        "\n",
        "    else:\n",
        "        print('')\n",
        "        print('50体の★4キャラクターが手に入りました。星玉でガチャを引きます！！')\n",
        "        print('')\n",
        "        time.sleep(2) #2秒待つ\n",
        "        characters = gatya2()\n",
        "        time.sleep(1) #1秒待つ\n",
        "        print('')\n",
        "        count3 += -50\n",
        "        count1 += characters.count(g) #目当てのキャラを数える\n",
        "        print(f'星玉を引いた後の★4の数:{count3}')\n",
        "        print('')\n",
        "        time.sleep(1.5) #1.5秒待つ\n",
        "\n",
        "\n",
        "\n",
        "  print(f'{g}が当たりました！おめでとうございます！！')\n",
        "  print(f'オーブ単価を70円とした場合、今回は合計{count2}0連したので、使用オーブは{count2 * 50}個、課金額は{count2 * 50 * 70}円です！') #総必要オーブ数と課金額\n",
        "\n"
      ],
      "metadata": {
        "id": "BB5jsybDIyZH"
      },
      "execution_count": null,
      "outputs": []
    },
    {
      "cell_type": "code",
      "source": [
        "#@title 目当てのキャラの運極まで\n",
        "\n",
        "def main3():\n",
        "  count1 = 0 #ほしいキャラがを出た回数\n",
        "  count2 = 0 #10連を引いた回数\n",
        "  count3 = 0 #★4\n",
        "\n",
        "  while count1 < 20: #20体まで\n",
        "    if count3 < 50 and count1 < 20:\n",
        "        count2 += 1\n",
        "        print('')\n",
        "        print(f'---{count2}0連目---')\n",
        "        characters = gatya1()\n",
        "        time.sleep(1.5)  #1.5秒待つ\n",
        "        count1 += characters.count(g) #目当てのキャラを数える\n",
        "        count3 += characters.count('★4') #★4を数える\n",
        "\n",
        "    else:\n",
        "        print('')\n",
        "        print('50体の★4キャラクターが手に入りました。星玉でガチャを引きます！！')\n",
        "        print('')\n",
        "        time.sleep(2) # 2秒待つ\n",
        "        characters = gatya2()\n",
        "        time.sleep(1) #1秒待つ\n",
        "        print('')\n",
        "        count3 += -50\n",
        "        count1 += characters.count(g) #目当てのキャラを数える\n",
        "        print(f'現在の{g}の数:{count1}')\n",
        "        print('')\n",
        "        time.sleep(1.5) #1.5秒待つ\n",
        "\n",
        "\n",
        "\n",
        "  print(f'{g}が20体当たりました！運極おめでとうございます！！')\n",
        "  print(f'オーブ単価を70円とした場合、今回は合計{count2}0連したので、使用オーブは{count2 * 50}個、課金額は{count2 * 50 * 70}円です！') #総必要オーブ数と課金額\n"
      ],
      "metadata": {
        "id": "xosYsLjO-oQZ"
      },
      "execution_count": null,
      "outputs": []
    },
    {
      "cell_type": "code",
      "source": [
        "#@title 実行セル\n",
        "\n",
        "if level == '星玉を引くまで':\n",
        "   main1()\n",
        "\n",
        "elif level == '目当てのキャラを当てるまで':\n",
        "   main2()\n",
        "\n",
        "else: #目当てのキャラの運極まで\n",
        "   main3()\n"
      ],
      "metadata": {
        "colab": {
          "base_uri": "https://localhost:8080/"
        },
        "id": "-2-hNekpxHn_",
        "outputId": "e821aebe-ef01-4777-fb32-795193bae1e6"
      },
      "execution_count": null,
      "outputs": [
        {
          "output_type": "stream",
          "name": "stdout",
          "text": [
            "\n",
            "---10連目---\n",
            "★4\n",
            "★4\n",
            "★4\n",
            "★5,★6の恒常キャラ\n",
            "★4\n",
            "★4\n",
            "★4\n",
            "★4\n",
            "★4\n",
            "★4\n",
            "\n",
            "---20連目---\n",
            "★4\n",
            "★4\n",
            "★4\n",
            "★4\n",
            "★4\n",
            "★4\n",
            "★4\n",
            "★4\n",
            "★5,★6の恒常キャラ\n",
            "★4\n",
            "\n",
            "---30連目---\n",
            "★5,★6の恒常キャラ\n",
            "★4\n",
            "★4\n",
            "★4\n",
            "★4\n",
            "★4\n",
            "★4\n",
            "★4\n",
            "★4\n",
            "★4\n",
            "\n",
            "---40連目---\n",
            "★5,★6の恒常キャラ\n",
            "★5,★6の恒常キャラ\n",
            "★5,★6の恒常キャラ\n",
            "★4\n",
            "★4\n",
            "★4\n",
            "★4\n",
            "★4\n",
            "★4\n",
            "★4\n",
            "\n",
            "---50連目---\n",
            "★4\n",
            "★4\n",
            "★4\n",
            "★4\n",
            "★4\n",
            "★5,★6の恒常キャラ\n",
            "★4\n",
            "★4\n",
            "★4\n",
            "★4\n",
            "\n",
            "---60連目---\n",
            "★4\n",
            "★4\n",
            "★4\n",
            "★4\n",
            "★4\n",
            "★4\n",
            "★4\n",
            "★4\n",
            "★4\n",
            "★4\n",
            "\n",
            "50体の★4キャラクターが手に入りました。星玉でガチャを引きます！！\n",
            "\n",
            "★5,★6の恒常キャラが出ました！\n"
          ]
        }
      ]
    }
  ]
}